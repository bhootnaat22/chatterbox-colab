{
 "cells": [
  {
   "cell_type": "markdown",
   "metadata": {
    "id": "header"
   },
   "source": [
    "# 🎙️ Chatterbox TTS & Voice Conversion - Google Colab\n",
    "\n",
    "[![Open In Colab](https://colab.research.google.com/assets/colab-badge.svg)](https://colab.research.google.com/github/bhootnaat22/chatterbox-colab/blob/master/chatterbox_colab.ipynb)\n",
    "\n",
    "Welcome to Chatterbox - Resemble AI's open-source TTS and Voice Conversion model!\n",
    "\n",
    "This notebook provides:\n",
    "- 🎯 **Text-to-Speech (TTS)** with emotion control\n",
    "- 🔄 **Voice Conversion** to change voice characteristics\n",
    "- 🌐 **Live Gradio Interface** accessible via public URL\n",
    "- ⚡ **GPU acceleration** when available\n",
    "\n",
    "## Features:\n",
    "- Zero-shot TTS with custom voice cloning\n",
    "- Emotion/exaggeration control\n",
    "- Voice conversion between different speakers\n",
    "- Built-in watermarking for responsible AI\n",
    "- Easy-to-use web interface"
   ]
  },
  {
   "cell_type": "markdown",
   "metadata": {
    "id": "setup"
   },
   "source": [
    "## 🚀 Setup and Installation\n",
    "\n",
    "First, let's install all the required dependencies:"
   ]
  },
  {
   "cell_type": "code",
   "execution_count": null,
   "metadata": {
    "id": "install_deps"
   },
   "outputs": [],
   "source": [
    "# Install system dependencies\n",
    "!apt-get update -qq\n",
    "!apt-get install -y -qq ffmpeg\n",
    "\n",
    "# Install Python dependencies\n",
    "!pip install -q chatterbox-tts gradio\n",
    "\n",
    "print(\"✅ Installation complete!\")"
   ]
  },
  {
   "cell_type": "markdown",
   "metadata": {
    "id": "device_check"
   },
   "source": [
    "## 🔧 Device Configuration\n",
    "\n",
    "Let's check what hardware we have available:"
   ]
  },
  {
   "cell_type": "code",
   "execution_count": null,
   "metadata": {
    "id": "check_device"
   },
   "outputs": [],
   "source": [
    "import torch\n",
    "import platform\n",
    "\n",
    "# Check available devices\n",
    "if torch.cuda.is_available():\n",
    "    device = \"cuda\"\n",
    "    gpu_name = torch.cuda.get_device_name(0)\n",
    "    gpu_memory = torch.cuda.get_device_properties(0).total_memory / 1024**3\n",
    "    print(f\"🚀 GPU Available: {gpu_name}\")\n",
    "    print(f\"💾 GPU Memory: {gpu_memory:.1f} GB\")\n",
    "elif torch.backends.mps.is_available():\n",
    "    device = \"mps\"\n",
    "    print(\"🍎 Apple MPS Available\")\n",
    "else:\n",
    "    device = \"cpu\"\n",
    "    print(\"💻 Using CPU\")\n",
    "\n",
    "print(f\"🎯 Selected device: {device}\")\n",
    "print(f\"🐍 Python version: {platform.python_version()}\")\n",
    "print(f\"🔥 PyTorch version: {torch.__version__}\")"
   ]
  },
  {
   "cell_type": "markdown",
   "metadata": {
    "id": "download_app"
   },
   "source": [
    "## 📱 Download Gradio App\n",
    "\n",
    "Let's download the optimized Gradio application:"
   ]
  },
  {
   "cell_type": "code",
   "execution_count": null,
   "metadata": {
    "id": "get_app"
   },
   "outputs": [],
   "source": [
    "# Download the Colab-optimized Gradio app\n",
    "!wget -q https://raw.githubusercontent.com/bhootnaat22/chatterbox-colab/master/colab_gradio_app.py\n",
    "\n",
    "print(\"✅ Gradio app downloaded!\")"
   ]
  },
  {
   "cell_type": "markdown",
   "metadata": {
    "id": "launch"
   },
   "source": [
    "## 🌐 Launch Gradio Interface\n",
    "\n",
    "Now let's launch the interactive web interface!\n",
    "\n",
    "**Note:** The first run will download the model weights (~2GB), which may take a few minutes."
   ]
  },
  {
   "cell_type": "code",
   "execution_count": null,
   "metadata": {
    "id": "run_app"
   },
   "outputs": [],
   "source": [
    "# Launch the Gradio app\n",
    "!python colab_gradio_app.py"
   ]
  },
  {
   "cell_type": "markdown",
   "metadata": {
    "id": "usage"
   },
   "source": [
    "## 📖 Usage Instructions\n",
    "\n",
    "### Text-to-Speech (TTS)\n",
    "1. **Enter text** you want to synthesize (max 300 characters)\n",
    "2. **Upload reference audio** (optional) to clone a specific voice\n",
    "3. **Adjust parameters:**\n",
    "   - **Exaggeration**: Controls emotion intensity (0.5 = neutral)\n",
    "   - **CFG/Pace**: Controls generation pace and quality\n",
    "   - **Temperature**: Controls randomness in generation\n",
    "4. **Click Generate** to create speech\n",
    "\n",
    "### Voice Conversion (VC)\n",
    "1. **Upload source audio** you want to convert\n",
    "2. **Upload target voice** (optional) to specify the target voice\n",
    "3. **Click Submit** to convert the voice\n",
    "\n",
    "### Tips for Best Results\n",
    "- Use clear, high-quality reference audio (3-10 seconds)\n",
    "- For dramatic speech: lower CFG (~0.3) + higher exaggeration (~0.7)\n",
    "- For natural speech: keep default settings (exaggeration=0.5, CFG=0.5)\n",
    "- Reference audio should match the desired speaking style"
   ]
  },
  {
   "cell_type": "markdown",
   "metadata": {
    "id": "examples"
   },
   "source": [
    "## 🎵 Quick Test Examples\n",
    "\n",
    "Want to test the models quickly? Run these examples:"
   ]
  },
  {
   "cell_type": "code",
   "execution_count": null,
   "metadata": {
    "id": "test_tts"
   },
   "outputs": [],
   "source": [
    "# Quick TTS test\n",
    "import torchaudio as ta\n",
    "from chatterbox.tts import ChatterboxTTS\n",
    "\n",
    "print(\"Loading TTS model...\")\n",
    "model = ChatterboxTTS.from_pretrained(device=device)\n",
    "\n",
    "text = \"Hello! This is Chatterbox TTS running in Google Colab. How does it sound?\"\n",
    "print(f\"Generating speech for: '{text}'\")\n",
    "\n",
    "wav = model.generate(text)\n",
    "ta.save(\"test_output.wav\", wav, model.sr)\n",
    "\n",
    "print(\"✅ TTS test complete! Audio saved as 'test_output.wav'\")\n",
    "\n",
    "# Play the audio in Colab\n",
    "from IPython.display import Audio, display\n",
    "display(Audio(\"test_output.wav\"))"
   ]
  },
  {
   "cell_type": "markdown",
   "metadata": {
    "id": "troubleshooting"
   },
   "source": [
    "## 🔧 Troubleshooting\n",
    "\n",
    "### Common Issues:\n",
    "\n",
    "1. **Out of Memory Error**:\n",
    "   - Restart runtime: `Runtime → Restart Runtime`\n",
    "   - Use shorter text inputs\n",
    "   - Try CPU mode if GPU memory is insufficient\n",
    "\n",
    "2. **Model Download Issues**:\n",
    "   - Check internet connection\n",
    "   - Restart and try again\n",
    "   - Models are ~2GB total\n",
    "\n",
    "3. **Audio Quality Issues**:\n",
    "   - Use high-quality reference audio (16kHz+)\n",
    "   - Keep reference audio 3-10 seconds long\n",
    "   - Adjust exaggeration and CFG parameters\n",
    "\n",
    "4. **Gradio Interface Not Loading**:\n",
    "   - Wait for model initialization to complete\n",
    "   - Check the public URL in the output\n",
    "   - Try refreshing the browser\n",
    "\n",
    "### Performance Tips:\n",
    "- GPU: ~10-30 seconds per generation\n",
    "- CPU: ~1-3 minutes per generation\n",
    "- Shorter texts generate faster\n",
    "- First generation takes longer (model loading)"
   ]
  },
  {
   "cell_type": "markdown",
   "metadata": {
    "id": "footer"
   },
   "source": [
    "## 🎉 Enjoy Chatterbox!\n",
    "\n",
    "You now have a fully functional TTS and Voice Conversion system running in Google Colab!\n",
    "\n",
    "### Links:\n",
    "- 🏠 [Chatterbox GitHub](https://github.com/resemble-ai/chatterbox)\n",
    "- 🤗 [Hugging Face Space](https://huggingface.co/spaces/ResembleAI/Chatterbox)\n",
    "- 🎵 [Demo Samples](https://resemble-ai.github.io/chatterbox_demopage/)\n",
    "- 💬 [Discord Community](https://discord.gg/rJq9cRJBJ6)\n",
    "\n",
    "### Made with ❤️ by [Resemble AI](https://resemble.ai)\n",
    "\n",
    "---\n",
    "*Remember to use this technology responsibly and ethically!*"
   ]
  }
 ],
 "metadata": {
  "accelerator": "GPU",
  "colab": {
   "gpuType": "T4",
   "provenance": []
  },
  "kernelspec": {
   "display_name": "Python 3",
   "name": "python3"
  },
  "language_info": {
   "name": "python"
  }
 },
 "nbformat": 4,
 "nbformat_minor": 0
}
